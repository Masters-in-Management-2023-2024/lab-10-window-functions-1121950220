{
  "nbformat": 4,
  "nbformat_minor": 0,
  "metadata": {
    "colab": {
      "provenance": []
    },
    "kernelspec": {
      "name": "python3",
      "display_name": "Python 3"
    },
    "language_info": {
      "name": "python"
    }
  },
  "cells": [
    {
      "cell_type": "code",
      "execution_count": 16,
      "metadata": {
        "colab": {
          "base_uri": "https://localhost:8080/"
        },
        "id": "CtP7CHeYTjNj",
        "outputId": "a61b2a75-4be2-40b0-8916-f5bf48501cbf"
      },
      "outputs": [
        {
          "output_type": "stream",
          "name": "stdout",
          "text": [
            "Error: The file 'strikes.csv' was not found. Please upload the file or check the path.\n"
          ]
        }
      ],
      "source": [
        "#1 import pandas as pd\n",
        "\n",
        "try:\n",
        "    # Load the dataset — change 'strikes.csv' to your correct file path if needed\n",
        "    strikes = pd.read_csv('strikes.csv')\n",
        "    print(\"File loaded successfully.\")\n",
        "\n",
        "    # Step 1: Create a 'date' column with only the date part (remove time)\n",
        "    strikes['date'] = pd.to_datetime(strikes['Collision Date and Time']).dt.date\n",
        "\n",
        "    # Step 2: Aggregate daily strikes (sum of Number of Strikes) by date\n",
        "    daily_strikes = strikes.groupby('date', as_index=False)['Number of Strikes'].sum()\n",
        "    daily_strikes.rename(columns={'Number of Strikes': 'daily_strikes'}, inplace=True)\n",
        "\n",
        "    # Step 3: Sort data ascending by date\n",
        "    daily_strikes = daily_strikes.sort_values('date').reset_index(drop=True)\n",
        "\n",
        "    # Step 4: Calculate running total of daily_strikes using a window function\n",
        "    daily_strikes['strikes_cumulative'] = daily_strikes['daily_strikes'].expanding().sum()\n",
        "\n",
        "    # Step 5: Filter to include only records up to and including 2013-12-31\n",
        "    running_total_strikes = daily_strikes[daily_strikes['date'] <= pd.to_datetime('2013-12-31').date()]\n",
        "\n",
        "    # Output the result\n",
        "    print(running_total_strikes)\n",
        "\n",
        "except FileNotFoundError:\n",
        "    print(\"Error: The file 'strikes.csv' was not found. Please upload the file or check the path.\")\n",
        "except Exception as e:\n",
        "    print(f\"An unexpected error occurred: {e}\")"
      ]
    },
    {
      "cell_type": "code",
      "metadata": {
        "colab": {
          "base_uri": "https://localhost:8080/",
          "height": 321
        },
        "id": "c2840aec",
        "outputId": "51514765-18d2-4cfd-ea71-2f4d50d2642e"
      },
      "source": [
        "# Load the data into the 'strikes' DataFrame\n",
        "strikes = pd.read_csv('strikes.csv')"
      ],
      "execution_count": 2,
      "outputs": [
        {
          "output_type": "error",
          "ename": "FileNotFoundError",
          "evalue": "[Errno 2] No such file or directory: 'strikes.csv'",
          "traceback": [
            "\u001b[0;31m---------------------------------------------------------------------------\u001b[0m",
            "\u001b[0;31mFileNotFoundError\u001b[0m                         Traceback (most recent call last)",
            "\u001b[0;32m/tmp/ipython-input-4115372506.py\u001b[0m in \u001b[0;36m<cell line: 0>\u001b[0;34m()\u001b[0m\n\u001b[1;32m      1\u001b[0m \u001b[0;31m# Load the data into the 'strikes' DataFrame\u001b[0m\u001b[0;34m\u001b[0m\u001b[0;34m\u001b[0m\u001b[0m\n\u001b[0;32m----> 2\u001b[0;31m \u001b[0mstrikes\u001b[0m \u001b[0;34m=\u001b[0m \u001b[0mpd\u001b[0m\u001b[0;34m.\u001b[0m\u001b[0mread_csv\u001b[0m\u001b[0;34m(\u001b[0m\u001b[0;34m'strikes.csv'\u001b[0m\u001b[0;34m)\u001b[0m\u001b[0;34m\u001b[0m\u001b[0;34m\u001b[0m\u001b[0m\n\u001b[0m",
            "\u001b[0;32m/usr/local/lib/python3.11/dist-packages/pandas/io/parsers/readers.py\u001b[0m in \u001b[0;36mread_csv\u001b[0;34m(filepath_or_buffer, sep, delimiter, header, names, index_col, usecols, dtype, engine, converters, true_values, false_values, skipinitialspace, skiprows, skipfooter, nrows, na_values, keep_default_na, na_filter, verbose, skip_blank_lines, parse_dates, infer_datetime_format, keep_date_col, date_parser, date_format, dayfirst, cache_dates, iterator, chunksize, compression, thousands, decimal, lineterminator, quotechar, quoting, doublequote, escapechar, comment, encoding, encoding_errors, dialect, on_bad_lines, delim_whitespace, low_memory, memory_map, float_precision, storage_options, dtype_backend)\u001b[0m\n\u001b[1;32m   1024\u001b[0m     \u001b[0mkwds\u001b[0m\u001b[0;34m.\u001b[0m\u001b[0mupdate\u001b[0m\u001b[0;34m(\u001b[0m\u001b[0mkwds_defaults\u001b[0m\u001b[0;34m)\u001b[0m\u001b[0;34m\u001b[0m\u001b[0;34m\u001b[0m\u001b[0m\n\u001b[1;32m   1025\u001b[0m \u001b[0;34m\u001b[0m\u001b[0m\n\u001b[0;32m-> 1026\u001b[0;31m     \u001b[0;32mreturn\u001b[0m \u001b[0m_read\u001b[0m\u001b[0;34m(\u001b[0m\u001b[0mfilepath_or_buffer\u001b[0m\u001b[0;34m,\u001b[0m \u001b[0mkwds\u001b[0m\u001b[0;34m)\u001b[0m\u001b[0;34m\u001b[0m\u001b[0;34m\u001b[0m\u001b[0m\n\u001b[0m\u001b[1;32m   1027\u001b[0m \u001b[0;34m\u001b[0m\u001b[0m\n\u001b[1;32m   1028\u001b[0m \u001b[0;34m\u001b[0m\u001b[0m\n",
            "\u001b[0;32m/usr/local/lib/python3.11/dist-packages/pandas/io/parsers/readers.py\u001b[0m in \u001b[0;36m_read\u001b[0;34m(filepath_or_buffer, kwds)\u001b[0m\n\u001b[1;32m    618\u001b[0m \u001b[0;34m\u001b[0m\u001b[0m\n\u001b[1;32m    619\u001b[0m     \u001b[0;31m# Create the parser.\u001b[0m\u001b[0;34m\u001b[0m\u001b[0;34m\u001b[0m\u001b[0m\n\u001b[0;32m--> 620\u001b[0;31m     \u001b[0mparser\u001b[0m \u001b[0;34m=\u001b[0m \u001b[0mTextFileReader\u001b[0m\u001b[0;34m(\u001b[0m\u001b[0mfilepath_or_buffer\u001b[0m\u001b[0;34m,\u001b[0m \u001b[0;34m**\u001b[0m\u001b[0mkwds\u001b[0m\u001b[0;34m)\u001b[0m\u001b[0;34m\u001b[0m\u001b[0;34m\u001b[0m\u001b[0m\n\u001b[0m\u001b[1;32m    621\u001b[0m \u001b[0;34m\u001b[0m\u001b[0m\n\u001b[1;32m    622\u001b[0m     \u001b[0;32mif\u001b[0m \u001b[0mchunksize\u001b[0m \u001b[0;32mor\u001b[0m \u001b[0miterator\u001b[0m\u001b[0;34m:\u001b[0m\u001b[0;34m\u001b[0m\u001b[0;34m\u001b[0m\u001b[0m\n",
            "\u001b[0;32m/usr/local/lib/python3.11/dist-packages/pandas/io/parsers/readers.py\u001b[0m in \u001b[0;36m__init__\u001b[0;34m(self, f, engine, **kwds)\u001b[0m\n\u001b[1;32m   1618\u001b[0m \u001b[0;34m\u001b[0m\u001b[0m\n\u001b[1;32m   1619\u001b[0m         \u001b[0mself\u001b[0m\u001b[0;34m.\u001b[0m\u001b[0mhandles\u001b[0m\u001b[0;34m:\u001b[0m \u001b[0mIOHandles\u001b[0m \u001b[0;34m|\u001b[0m \u001b[0;32mNone\u001b[0m \u001b[0;34m=\u001b[0m \u001b[0;32mNone\u001b[0m\u001b[0;34m\u001b[0m\u001b[0;34m\u001b[0m\u001b[0m\n\u001b[0;32m-> 1620\u001b[0;31m         \u001b[0mself\u001b[0m\u001b[0;34m.\u001b[0m\u001b[0m_engine\u001b[0m \u001b[0;34m=\u001b[0m \u001b[0mself\u001b[0m\u001b[0;34m.\u001b[0m\u001b[0m_make_engine\u001b[0m\u001b[0;34m(\u001b[0m\u001b[0mf\u001b[0m\u001b[0;34m,\u001b[0m \u001b[0mself\u001b[0m\u001b[0;34m.\u001b[0m\u001b[0mengine\u001b[0m\u001b[0;34m)\u001b[0m\u001b[0;34m\u001b[0m\u001b[0;34m\u001b[0m\u001b[0m\n\u001b[0m\u001b[1;32m   1621\u001b[0m \u001b[0;34m\u001b[0m\u001b[0m\n\u001b[1;32m   1622\u001b[0m     \u001b[0;32mdef\u001b[0m \u001b[0mclose\u001b[0m\u001b[0;34m(\u001b[0m\u001b[0mself\u001b[0m\u001b[0;34m)\u001b[0m \u001b[0;34m->\u001b[0m \u001b[0;32mNone\u001b[0m\u001b[0;34m:\u001b[0m\u001b[0;34m\u001b[0m\u001b[0;34m\u001b[0m\u001b[0m\n",
            "\u001b[0;32m/usr/local/lib/python3.11/dist-packages/pandas/io/parsers/readers.py\u001b[0m in \u001b[0;36m_make_engine\u001b[0;34m(self, f, engine)\u001b[0m\n\u001b[1;32m   1878\u001b[0m                 \u001b[0;32mif\u001b[0m \u001b[0;34m\"b\"\u001b[0m \u001b[0;32mnot\u001b[0m \u001b[0;32min\u001b[0m \u001b[0mmode\u001b[0m\u001b[0;34m:\u001b[0m\u001b[0;34m\u001b[0m\u001b[0;34m\u001b[0m\u001b[0m\n\u001b[1;32m   1879\u001b[0m                     \u001b[0mmode\u001b[0m \u001b[0;34m+=\u001b[0m \u001b[0;34m\"b\"\u001b[0m\u001b[0;34m\u001b[0m\u001b[0;34m\u001b[0m\u001b[0m\n\u001b[0;32m-> 1880\u001b[0;31m             self.handles = get_handle(\n\u001b[0m\u001b[1;32m   1881\u001b[0m                 \u001b[0mf\u001b[0m\u001b[0;34m,\u001b[0m\u001b[0;34m\u001b[0m\u001b[0;34m\u001b[0m\u001b[0m\n\u001b[1;32m   1882\u001b[0m                 \u001b[0mmode\u001b[0m\u001b[0;34m,\u001b[0m\u001b[0;34m\u001b[0m\u001b[0;34m\u001b[0m\u001b[0m\n",
            "\u001b[0;32m/usr/local/lib/python3.11/dist-packages/pandas/io/common.py\u001b[0m in \u001b[0;36mget_handle\u001b[0;34m(path_or_buf, mode, encoding, compression, memory_map, is_text, errors, storage_options)\u001b[0m\n\u001b[1;32m    871\u001b[0m         \u001b[0;32mif\u001b[0m \u001b[0mioargs\u001b[0m\u001b[0;34m.\u001b[0m\u001b[0mencoding\u001b[0m \u001b[0;32mand\u001b[0m \u001b[0;34m\"b\"\u001b[0m \u001b[0;32mnot\u001b[0m \u001b[0;32min\u001b[0m \u001b[0mioargs\u001b[0m\u001b[0;34m.\u001b[0m\u001b[0mmode\u001b[0m\u001b[0;34m:\u001b[0m\u001b[0;34m\u001b[0m\u001b[0;34m\u001b[0m\u001b[0m\n\u001b[1;32m    872\u001b[0m             \u001b[0;31m# Encoding\u001b[0m\u001b[0;34m\u001b[0m\u001b[0;34m\u001b[0m\u001b[0m\n\u001b[0;32m--> 873\u001b[0;31m             handle = open(\n\u001b[0m\u001b[1;32m    874\u001b[0m                 \u001b[0mhandle\u001b[0m\u001b[0;34m,\u001b[0m\u001b[0;34m\u001b[0m\u001b[0;34m\u001b[0m\u001b[0m\n\u001b[1;32m    875\u001b[0m                 \u001b[0mioargs\u001b[0m\u001b[0;34m.\u001b[0m\u001b[0mmode\u001b[0m\u001b[0;34m,\u001b[0m\u001b[0;34m\u001b[0m\u001b[0;34m\u001b[0m\u001b[0m\n",
            "\u001b[0;31mFileNotFoundError\u001b[0m: [Errno 2] No such file or directory: 'strikes.csv'"
          ]
        }
      ]
    },
    {
      "cell_type": "code",
      "source": [
        "import pandas as pd\n",
        "\n",
        "try:\n",
        "    # Change 'strikes.csv' to your actual file path if different\n",
        "    strikes = pd.read_csv('strikes.csv')\n",
        "    print(\"File loaded successfully.\")\n",
        "\n",
        "    # Now run the analysis for question 2:\n",
        "    damage_df = strikes.groupby('Origin State', as_index=False)['Cost: Total $'].sum()\n",
        "    damage_df.rename(columns={'Cost: Total $': 'damage'}, inplace=True)\n",
        "\n",
        "    damage_df['ranking'] = damage_df['damage'].rank(method='dense', ascending=False).astype(int)\n",
        "\n",
        "    damage_state = damage_df[damage_df['ranking'] == 3].reset_index(drop=True)\n",
        "\n",
        "    print(damage_state)\n",
        "\n",
        "except FileNotFoundError:\n",
        "    print(\"Error: 'strikes.csv' not found. Please make sure the file is in the correct directory.\")\n",
        "except Exception as e:\n",
        "    print(f\"An error occurred: {e}\")"
      ],
      "metadata": {
        "colab": {
          "base_uri": "https://localhost:8080/"
        },
        "id": "Zd8rzMXjU-SN",
        "outputId": "a43c6c7e-c58d-4336-9f05-83fd8a4ba8e8"
      },
      "execution_count": 8,
      "outputs": [
        {
          "output_type": "stream",
          "name": "stdout",
          "text": [
            "Error: 'strikes.csv' not found. Please make sure the file is in the correct directory.\n"
          ]
        }
      ]
    },
    {
      "cell_type": "code",
      "source": [
        "#3 import pandas as pd\n",
        "\n",
        "try:\n",
        "    # Load the data (make sure strikes.csv is uploaded or correct the file path)\n",
        "    strikes = pd.read_csv('strikes.csv')\n",
        "    print(\"File loaded successfully.\")\n",
        "\n",
        "    # Aggregate total damage by Aircraft Type and Wildlife Species Group\n",
        "    agg_df = (\n",
        "        strikes\n",
        "        .groupby(['Aircraft: Type', 'Wildlife: Species Group'], as_index=False)['Cost: Total $']\n",
        "        .sum()\n",
        "        .rename(columns={'Cost: Total $': 'damage'})\n",
        "    )\n",
        "\n",
        "    # Rank species groups within each Aircraft Type by descending damage\n",
        "    agg_df['ranking'] = agg_df.groupby('Aircraft: Type')['damage'] \\\n",
        "                             .rank(method='dense', ascending=False).astype(int)\n",
        "\n",
        "    # Filter for the second costliest species groups per Aircraft Type\n",
        "    type_species = agg_df[agg_df['ranking'] == 2].reset_index(drop=True)\n",
        "\n",
        "    print(type_species)\n",
        "\n",
        "except FileNotFoundError:\n",
        "    print(\"Error: The file 'strikes.csv' was not found. Please upload it or check the path.\")\n",
        "except Exception as e:\n",
        "    print(f\"An unexpected error occurred: {e}\")"
      ],
      "metadata": {
        "colab": {
          "base_uri": "https://localhost:8080/"
        },
        "id": "IUgfs2OOVd7R",
        "outputId": "60332ba9-0280-4752-b10a-71c0e4a58888"
      },
      "execution_count": 11,
      "outputs": [
        {
          "output_type": "stream",
          "name": "stdout",
          "text": [
            "Error: The file 'strikes.csv' was not found. Please upload it or check the path.\n"
          ]
        }
      ]
    },
    {
      "cell_type": "code",
      "source": [
        "#4 import pandas as pd\n",
        "\n",
        "try:\n",
        "    # Load the data (make sure strikes.csv is uploaded or correct the file path)\n",
        "    strikes = pd.read_csv('strikes.csv')\n",
        "    print(\"File loaded successfully.\")\n",
        "\n",
        "    # Step 1: Create 'date' column by removing time info from 'Collision Date and Time'\n",
        "    strikes['date'] = pd.to_datetime(strikes['Collision Date and Time']).dt.date\n",
        "\n",
        "    # Step 2: Sum Number of Strikes by date\n",
        "    daily_strikes = (\n",
        "        strikes.groupby('date', as_index=False)['Number of Strikes']\n",
        "        .sum()\n",
        "        .rename(columns={'Number of Strikes': 'daily_strikes'})\n",
        "    )\n",
        "\n",
        "    # Step 3: Sort by date ascending\n",
        "    daily_strikes = daily_strikes.sort_values('date').reset_index(drop=True)\n",
        "\n",
        "    # Step 4: Use a window function to get previous day's strikes\n",
        "    daily_strikes['previous_day'] = daily_strikes['daily_strikes'].shift(1)\n",
        "\n",
        "    # Step 5: Calculate delta_strikes (difference between current day and previous day)\n",
        "    daily_strikes['delta_strikes'] = daily_strikes['daily_strikes'] - daily_strikes['previous_day']\n",
        "\n",
        "    # Step 6: Sort by delta_strikes descending to find biggest positive jumps\n",
        "    greatest_strike_increase = daily_strikes.sort_values('delta_strikes', ascending=False).reset_index(drop=True)\n",
        "\n",
        "    # Show the result\n",
        "    print(greatest_strike_increase)\n",
        "\n",
        "except FileNotFoundError:\n",
        "    print(\"Error: The file 'strikes.csv' was not found. Please upload it or check the path.\")\n",
        "except Exception as e:\n",
        "    print(f\"An unexpected error occurred: {e}\")"
      ],
      "metadata": {
        "colab": {
          "base_uri": "https://localhost:8080/"
        },
        "id": "Q5_C9UX0VhDI",
        "outputId": "d139634d-03cf-4b28-d234-4f175b4fbc34"
      },
      "execution_count": 12,
      "outputs": [
        {
          "output_type": "stream",
          "name": "stdout",
          "text": [
            "Error: The file 'strikes.csv' was not found. Please upload it or check the path.\n"
          ]
        }
      ]
    },
    {
      "cell_type": "code",
      "source": [
        "#5import pandas as pd\n",
        "\n",
        "try:\n",
        "    # Load the data (make sure strikes.csv is accessible)\n",
        "    strikes = pd.read_csv('strikes.csv')\n",
        "    print(\"File loaded successfully.\")\n",
        "\n",
        "    # Step 1: Create a 'date' column without time info\n",
        "    strikes['date'] = pd.to_datetime(strikes['Collision Date and Time']).dt.date\n",
        "\n",
        "    # Step 2: Aggregate daily strikes by Aircraft Type and date\n",
        "    grouped = (\n",
        "        strikes\n",
        "        .groupby(['Aircraft: Type', 'date'], as_index=False)['Number of Strikes']\n",
        "        .sum()\n",
        "        .rename(columns={'Number of Strikes': 'daily_strikes'})\n",
        "    )\n",
        "\n",
        "    # Step 3: Sort by Aircraft Type and date\n",
        "    grouped = grouped.sort_values(['Aircraft: Type', 'date']).reset_index(drop=True)\n",
        "\n",
        "    # Step 4: Calculate previous day's strikes per Aircraft Type using shift()\n",
        "    grouped['previous_day'] = grouped.groupby('Aircraft: Type')['daily_strikes'].shift(1)\n",
        "\n",
        "    # Step 5: Calculate delta_strikes (difference between current and previous day)\n",
        "    grouped['delta_strikes'] = grouped['daily_strikes'] - grouped['previous_day']\n",
        "\n",
        "    # Step 6: Rank days within each Aircraft Type by delta_strikes descending\n",
        "    grouped['ranking'] = grouped.groupby('Aircraft: Type')['delta_strikes'] \\\n",
        "                               .rank(method='dense', ascending=False).astype(int)\n",
        "\n",
        "    # Step 7: Filter to only the days with the largest increase (ranking == 1) per Aircraft Type\n",
        "    greatest_strike_increase_type = grouped[grouped['ranking'] == 1].reset_index(drop=True)\n",
        "\n",
        "    greatest_strike_increase_type\n",
        "\n",
        "except FileNotFoundError:\n",
        "    print(\"Error: The file 'strikes.csv' was not found. Please upload it or check the path.\")\n",
        "except Exception as e:\n",
        "    print(f\"An unexpected error occurred: {e}\")"
      ],
      "metadata": {
        "colab": {
          "base_uri": "https://localhost:8080/"
        },
        "id": "ubZ7ulrUVwxM",
        "outputId": "9ad3d63b-7e1a-4d13-8337-70d39c5c6f7e"
      },
      "execution_count": 13,
      "outputs": [
        {
          "output_type": "stream",
          "name": "stdout",
          "text": [
            "Error: The file 'strikes.csv' was not found. Please upload it or check the path.\n"
          ]
        }
      ]
    }
  ]
}